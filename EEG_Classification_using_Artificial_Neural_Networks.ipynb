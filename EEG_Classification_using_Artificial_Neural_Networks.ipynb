{
  "nbformat": 4,
  "nbformat_minor": 0,
  "metadata": {
    "colab": {
      "name": "EEG Classification using Artificial Neural Networks.ipynb",
      "provenance": [],
      "collapsed_sections": []
    },
    "kernelspec": {
      "name": "python3",
      "display_name": "Python 3"
    },
    "language_info": {
      "name": "python"
    }
  },
  "cells": [
    {
      "cell_type": "code",
      "metadata": {
        "colab": {
          "base_uri": "https://localhost:8080/"
        },
        "id": "p07t8UKpHNmm",
        "outputId": "46154afa-8db0-4348-ce34-61e36203dc51"
      },
      "source": [
        "#Mounting the google drive\n",
        "from google.colab import drive\n",
        "drive.mount('/content/drive')"
      ],
      "execution_count": null,
      "outputs": [
        {
          "output_type": "stream",
          "text": [
            "Mounted at /content/drive\n"
          ],
          "name": "stdout"
        }
      ]
    },
    {
      "cell_type": "code",
      "metadata": {
        "id": "TmXYAWdsRooB"
      },
      "source": [
        "#Loading the dataset from path\n",
        "#Pandas is used for loading CSV files\n",
        "import pandas as pd\n",
        "path = '/content/drive/MyDrive/Random forest SVM Decision trees/data.txt'\n",
        "df = pd.read_csv(path,sep=',')\n",
        "df.columns = ['0', '1', '2', '3', '4','5','6','7','8','9','10','11','12','13','target_class']\n",
        "df.head()"
      ],
      "execution_count": null,
      "outputs": []
    },
    {
      "cell_type": "code",
      "metadata": {
        "colab": {
          "base_uri": "https://localhost:8080/"
        },
        "id": "wbkA1jLGbht1",
        "outputId": "057d9cb2-ffbc-4997-fbbf-dc7977356c67"
      },
      "source": [
        "#train test splitting\n",
        "from sklearn.model_selection import train_test_split\n",
        "import numpy as np\n",
        "X=df[df.columns[0:14]].values # Features\n",
        "y = df['target_class'] # Target variable\n",
        "X_train, X_test, y_train, y_test = train_test_split(X, y, test_size=0.1) # 90% training and 10% test\n",
        "print('X_train',X_train.shape)\n",
        "print('X_test',X_test.shape)\n",
        "print('y_train',y_train.shape)\n",
        "print('y_test',y_test.shape)\n",
        "y_train = np.array(y_train).reshape(y_train.shape[0], 1)"
      ],
      "execution_count": null,
      "outputs": [
        {
          "output_type": "stream",
          "text": [
            "X_train (13481, 14)\n",
            "X_test (1498, 14)\n",
            "y_train (13481,)\n",
            "y_test (1498,)\n"
          ],
          "name": "stdout"
        }
      ]
    },
    {
      "cell_type": "code",
      "metadata": {
        "id": "_7eFTajlcKWM"
      },
      "source": [
        "import tensorflow as tf\n",
        "model=tf.keras.models.Sequential([\n",
        "                               tf.keras.layers.Flatten(),\n",
        "                               tf.keras.layers.Dense(256, activation=tf.nn.sigmoid),#HiddenLayer\n",
        "                               tf.keras.layers.Dense(2, activation=tf.nn.softmax)   \n",
        "])"
      ],
      "execution_count": null,
      "outputs": []
    },
    {
      "cell_type": "code",
      "metadata": {
        "id": "5MzKanQ7dTKA"
      },
      "source": [
        "#compiling the model\n",
        "model.compile(optimizer='rmsprop',loss=tf.losses.binary_crossentropy,metrics=['accuracy'])"
      ],
      "execution_count": null,
      "outputs": []
    },
    {
      "cell_type": "code",
      "metadata": {
        "colab": {
          "base_uri": "https://localhost:8080/"
        },
        "id": "66Gqh6DXeAfl",
        "outputId": "029720aa-8098-4784-f218-be75a1f27cbb"
      },
      "source": [
        "history=model.fit(X_train,y_train,epochs=30,validation_data=(X_test,y_test))"
      ],
      "execution_count": null,
      "outputs": [
        {
          "output_type": "stream",
          "text": [
            "Epoch 1/30\n",
            "422/422 [==============================] - 1s 2ms/step - loss: 0.6961 - accuracy: 0.4983 - val_loss: 0.6950 - val_accuracy: 0.5561\n",
            "Epoch 2/30\n",
            "422/422 [==============================] - 1s 2ms/step - loss: 0.6960 - accuracy: 0.4951 - val_loss: 0.6950 - val_accuracy: 0.5561\n",
            "Epoch 3/30\n",
            "422/422 [==============================] - 1s 2ms/step - loss: 0.6959 - accuracy: 0.4994 - val_loss: 0.6950 - val_accuracy: 0.5561\n",
            "Epoch 4/30\n",
            "422/422 [==============================] - 1s 2ms/step - loss: 0.6959 - accuracy: 0.4906 - val_loss: 0.6948 - val_accuracy: 0.5561\n",
            "Epoch 5/30\n",
            "422/422 [==============================] - 1s 2ms/step - loss: 0.6958 - accuracy: 0.4972 - val_loss: 0.6945 - val_accuracy: 0.5561\n",
            "Epoch 6/30\n",
            "422/422 [==============================] - 1s 2ms/step - loss: 0.6957 - accuracy: 0.4968 - val_loss: 0.6950 - val_accuracy: 0.5561\n",
            "Epoch 7/30\n",
            "422/422 [==============================] - 1s 2ms/step - loss: 0.6957 - accuracy: 0.4982 - val_loss: 0.6950 - val_accuracy: 0.5561\n",
            "Epoch 8/30\n",
            "422/422 [==============================] - 1s 2ms/step - loss: 0.6957 - accuracy: 0.4996 - val_loss: 0.6947 - val_accuracy: 0.5561\n",
            "Epoch 9/30\n",
            "422/422 [==============================] - 1s 2ms/step - loss: 0.6956 - accuracy: 0.5018 - val_loss: 0.6950 - val_accuracy: 0.4439\n",
            "Epoch 10/30\n",
            "422/422 [==============================] - 1s 2ms/step - loss: 0.6956 - accuracy: 0.4942 - val_loss: 0.6950 - val_accuracy: 0.4439\n",
            "Epoch 11/30\n",
            "422/422 [==============================] - 1s 2ms/step - loss: 0.6955 - accuracy: 0.5018 - val_loss: 0.6946 - val_accuracy: 0.4439\n",
            "Epoch 12/30\n",
            "422/422 [==============================] - 1s 2ms/step - loss: 0.6955 - accuracy: 0.5066 - val_loss: 0.6952 - val_accuracy: 0.4439\n",
            "Epoch 13/30\n",
            "422/422 [==============================] - 1s 2ms/step - loss: 0.6954 - accuracy: 0.4991 - val_loss: 0.6950 - val_accuracy: 0.4439\n",
            "Epoch 14/30\n",
            "422/422 [==============================] - 1s 2ms/step - loss: 0.6954 - accuracy: 0.5006 - val_loss: 0.6950 - val_accuracy: 0.4439\n",
            "Epoch 15/30\n",
            "422/422 [==============================] - 1s 2ms/step - loss: 0.6953 - accuracy: 0.4977 - val_loss: 0.6949 - val_accuracy: 0.4439\n",
            "Epoch 16/30\n",
            "422/422 [==============================] - 1s 2ms/step - loss: 0.6953 - accuracy: 0.5043 - val_loss: 0.6950 - val_accuracy: 0.4439\n",
            "Epoch 17/30\n",
            "422/422 [==============================] - 1s 2ms/step - loss: 0.6953 - accuracy: 0.5139 - val_loss: 0.6950 - val_accuracy: 0.4439\n",
            "Epoch 18/30\n",
            "422/422 [==============================] - 1s 2ms/step - loss: 0.6952 - accuracy: 0.5049 - val_loss: 0.6942 - val_accuracy: 0.4439\n",
            "Epoch 19/30\n",
            "422/422 [==============================] - 1s 2ms/step - loss: 0.6952 - accuracy: 0.5032 - val_loss: 0.6949 - val_accuracy: 0.4439\n",
            "Epoch 20/30\n",
            "422/422 [==============================] - 1s 2ms/step - loss: 0.6951 - accuracy: 0.5003 - val_loss: 0.6950 - val_accuracy: 0.4439\n",
            "Epoch 21/30\n",
            "422/422 [==============================] - 1s 2ms/step - loss: 0.6951 - accuracy: 0.5069 - val_loss: 0.6950 - val_accuracy: 0.4439\n",
            "Epoch 22/30\n",
            "422/422 [==============================] - 1s 2ms/step - loss: 0.6951 - accuracy: 0.4972 - val_loss: 0.6947 - val_accuracy: 0.4439\n",
            "Epoch 23/30\n",
            "422/422 [==============================] - 1s 2ms/step - loss: 0.6950 - accuracy: 0.5057 - val_loss: 0.6950 - val_accuracy: 0.4439\n",
            "Epoch 24/30\n",
            "422/422 [==============================] - 1s 2ms/step - loss: 0.6950 - accuracy: 0.5003 - val_loss: 0.6950 - val_accuracy: 0.4439\n",
            "Epoch 25/30\n",
            "422/422 [==============================] - 1s 2ms/step - loss: 0.6950 - accuracy: 0.4980 - val_loss: 0.6950 - val_accuracy: 0.4439\n",
            "Epoch 26/30\n",
            "422/422 [==============================] - 1s 2ms/step - loss: 0.6950 - accuracy: 0.4980 - val_loss: 0.6955 - val_accuracy: 0.4439\n",
            "Epoch 27/30\n",
            "422/422 [==============================] - 1s 2ms/step - loss: 0.6950 - accuracy: 0.4964 - val_loss: 0.6950 - val_accuracy: 0.4439\n",
            "Epoch 28/30\n",
            "422/422 [==============================] - 1s 2ms/step - loss: 0.6950 - accuracy: 0.5055 - val_loss: 0.6954 - val_accuracy: 0.4439\n",
            "Epoch 29/30\n",
            "422/422 [==============================] - 1s 2ms/step - loss: 0.6950 - accuracy: 0.4985 - val_loss: 0.6950 - val_accuracy: 0.4439\n",
            "Epoch 30/30\n",
            "422/422 [==============================] - 1s 2ms/step - loss: 0.6950 - accuracy: 0.5017 - val_loss: 0.6947 - val_accuracy: 0.4439\n"
          ],
          "name": "stdout"
        }
      ]
    },
    {
      "cell_type": "code",
      "metadata": {
        "colab": {
          "base_uri": "https://localhost:8080/",
          "height": 298
        },
        "id": "mT_k3OmgfpJ-",
        "outputId": "573f62af-2b96-4802-9756-0a55eb97d07e"
      },
      "source": [
        "#Accuracy curve\n",
        "import matplotlib.pyplot as plt\n",
        "plt.title('Cross Entropy Loss')\n",
        "plt.plot(history.history['loss'], color='blue', label='train')\n",
        "plt.plot(history.history['val_loss'], color='orange', label='test')\n",
        "plt.legend(['training loss','validation loss'])"
      ],
      "execution_count": null,
      "outputs": [
        {
          "output_type": "execute_result",
          "data": {
            "text/plain": [
              "<matplotlib.legend.Legend at 0x7fbac7099b90>"
            ]
          },
          "metadata": {
            "tags": []
          },
          "execution_count": 78
        },
        {
          "output_type": "display_data",
          "data": {
            "image/png": "[encoded data removed]",
            "text/plain": [
              "<Figure size 432x288 with 1 Axes>"
            ]
          },
          "metadata": {
            "tags": [],
            "needs_background": "light"
          }
        }
      ]
    },
    {
      "cell_type": "code",
      "metadata": {
        "colab": {
          "base_uri": "https://localhost:8080/",
          "height": 298
        },
        "id": "aAaOldYywaMW",
        "outputId": "b077fcb1-8406-4a4f-d621-227dee574b9b"
      },
      "source": [
        "import matplotlib.pyplot as plt\n",
        "plt.title('Classification Accuracy')\n",
        "plt.plot(history.history['accuracy'], color='blue', label='train')\n",
        "plt.plot(history.history['val_accuracy'], color='orange', label='test')\n",
        "plt.legend(['training accuracy','validation accuracy'])"
      ],
      "execution_count": null,
      "outputs": [
        {
          "output_type": "execute_result",
          "data": {
            "text/plain": [
              "<matplotlib.legend.Legend at 0x7fbac7126210>"
            ]
          },
          "metadata": {
            "tags": []
          },
          "execution_count": 79
        },
        {
          "output_type": "display_data",
          "data": {
            "image/png": "[encoded data removed]",
            "text/plain": [
              "<Figure size 432x288 with 1 Axes>"
            ]
          },
          "metadata": {
            "tags": [],
            "needs_background": "light"
          }
        }
      ]
    }
  ]
}